{
 "cells": [
  {
   "cell_type": "markdown",
   "metadata": {},
   "source": [
    "\n",
    "## Start Bluesky. Run only once at startup\n",
    "Related to issue 35 at GitHub: https://github.com/aps-8id-dys/ipython-8idiuser/issues/35\n"
   ]
  },
  {
   "cell_type": "code",
   "execution_count": 1,
   "metadata": {},
   "outputs": [
    {
     "name": "stderr",
     "output_type": "stream",
     "text": [
      "I Thu-12:39:23 - ############################################################ startup\n",
      "I Thu-12:39:23 - logging started\n",
      "I Thu-12:39:23 - logging level = 10\n",
      "I Thu-12:39:23 - /home/beams/8IDIUSER/.ipython-bluesky/profile_bluesky/startup/instrument/collection.py\n",
      "I Thu-12:39:23 - /home/beams/8IDIUSER/.ipython-bluesky/profile_bluesky/startup/instrument/mpl/notebook.py\n"
     ]
    },
    {
     "name": "stdout",
     "output_type": "stream",
     "text": [
      "Activating auto-logging. Current session state plus future input saved.\n",
      "Filename       : /home/beams10/8IDIUSER/.ipython-bluesky/jupyter_cheatsheet/.logs/ipython_console.log\n",
      "Mode           : rotate\n",
      "Output logging : True\n",
      "Raw input log  : False\n",
      "Timestamping   : True\n",
      "State          : active\n"
     ]
    },
    {
     "name": "stderr",
     "output_type": "stream",
     "text": [
      "I Thu-12:39:23 - bluesky framework\n",
      "I Thu-12:39:23 - /home/beams/8IDIUSER/.ipython-bluesky/profile_bluesky/startup/instrument/framework/check_python.py\n",
      "I Thu-12:39:23 - /home/beams/8IDIUSER/.ipython-bluesky/profile_bluesky/startup/instrument/framework/check_bluesky.py\n",
      "I Thu-12:39:26 - /home/beams/8IDIUSER/.ipython-bluesky/profile_bluesky/startup/instrument/framework/initialize.py\n",
      "I Thu-12:39:29 - /home/beams/8IDIUSER/.ipython-bluesky/profile_bluesky/startup/instrument/framework/user_dir.py\n",
      "I Thu-12:39:29 - User code directory: /home/beams/8IDIUSER/.ipython-bluesky/user\n",
      "I Thu-12:39:29 - /home/beams/8IDIUSER/.ipython-bluesky/profile_bluesky/startup/instrument/framework/metadata.py\n",
      "I Thu-12:39:29 - /home/beams/8IDIUSER/.ipython-bluesky/profile_bluesky/startup/instrument/framework/callbacks.py\n",
      "I Thu-12:39:30 - writing to SPEC file: /home/beams10/8IDIUSER/.ipython-bluesky/jupyter_cheatsheet/20200521-123930.dat\n",
      "I Thu-12:39:30 -    >>>>   Using default SPEC file name   <<<<\n",
      "I Thu-12:39:30 -    file will be created when bluesky ends its next scan\n",
      "I Thu-12:39:30 -    to change SPEC file, use command:   newSpecFile('title')\n",
      "I Thu-12:39:30 - /home/beams/8IDIUSER/.ipython-bluesky/profile_bluesky/startup/instrument/devices/aps_source.py\n",
      "I Thu-12:39:30 - /home/beams/8IDIUSER/.ipython-bluesky/profile_bluesky/startup/instrument/devices/pss.py\n",
      "I Thu-12:39:30 - /home/beams/8IDIUSER/.ipython-bluesky/profile_bluesky/startup/instrument/devices/foe.py\n",
      "I Thu-12:39:30 - /home/beams/8IDIUSER/.ipython-bluesky/profile_bluesky/startup/instrument/devices/monochromator.py\n",
      "I Thu-12:39:30 - /home/beams/8IDIUSER/.ipython-bluesky/profile_bluesky/startup/instrument/devices/be_window.py\n",
      "I Thu-12:39:30 - /home/beams/8IDIUSER/.ipython-bluesky/profile_bluesky/startup/instrument/devices/actuators.py\n",
      "I Thu-12:39:30 - /home/beams/8IDIUSER/.ipython-bluesky/profile_bluesky/startup/instrument/devices/attenuators.py\n",
      "I Thu-12:39:30 - /home/beams/8IDIUSER/.ipython-bluesky/profile_bluesky/startup/instrument/devices/crl.py\n",
      "I Thu-12:39:30 - /home/beams/8IDIUSER/.ipython-bluesky/profile_bluesky/startup/instrument/devices/detector_stages.py\n",
      "I Thu-12:39:30 - /home/beams/8IDIUSER/.ipython-bluesky/profile_bluesky/startup/instrument/devices/epid.py\n",
      "I Thu-12:39:30 - /home/beams/8IDIUSER/.ipython-bluesky/profile_bluesky/startup/instrument/devices/fly.py\n",
      "I Thu-12:39:30 - /home/beams/8IDIUSER/.ipython-bluesky/profile_bluesky/startup/instrument/devices/lakeshore.py\n",
      "I Thu-12:39:30 - /home/beams/8IDIUSER/.ipython-bluesky/profile_bluesky/startup/instrument/devices/motors.py\n",
      "I Thu-12:39:30 - /home/beams/8IDIUSER/.ipython-bluesky/profile_bluesky/startup/instrument/devices/preamps.py\n",
      "I Thu-12:39:30 - /home/beams/8IDIUSER/.ipython-bluesky/profile_bluesky/startup/instrument/devices/sample_stage.py\n",
      "I Thu-12:39:30 - /home/beams/8IDIUSER/.ipython-bluesky/profile_bluesky/startup/instrument/devices/data_management.py\n",
      "I Thu-12:39:31 - /home/beams/8IDIUSER/.ipython-bluesky/profile_bluesky/startup/instrument/devices/scaler.py\n",
      "I Thu-12:39:32 - /home/beams/8IDIUSER/.ipython-bluesky/profile_bluesky/startup/instrument/devices/shutters.py\n",
      "W Thu-12:39:32 - !!!!!!!!!!!!!!!!!!!!!!!!!!!!!!\n",
      "W Thu-12:39:32 - Session started when 8_ID-I is not operating.\n",
      "W Thu-12:39:32 - Using simulator 'shutter'.\n",
      "W Thu-12:39:32 - !!!!!!!!!!!!!!!!!!!!!!!!!!!!!!\n",
      "I Thu-12:39:32 - /home/beams/8IDIUSER/.ipython-bluesky/profile_bluesky/startup/instrument/devices/slits.py\n",
      "I Thu-12:39:32 - /home/beams/8IDIUSER/.ipython-bluesky/profile_bluesky/startup/instrument/devices/soft_glue_fpga.py\n",
      "I Thu-12:39:32 - /home/beams/8IDIUSER/.ipython-bluesky/profile_bluesky/startup/instrument/devices/tables.py\n",
      "I Thu-12:39:32 - /home/beams/8IDIUSER/.ipython-bluesky/profile_bluesky/startup/instrument/devices/lambda_750k.py\n",
      "I Thu-12:39:32 - /home/beams/8IDIUSER/.ipython-bluesky/profile_bluesky/startup/instrument/devices/rigaku_ufxc.py\n",
      "I Thu-12:39:32 - /home/beams/8IDIUSER/.ipython-bluesky/profile_bluesky/startup/instrument/plans/alignments.py\n",
      "I Thu-12:39:32 - /home/beams/8IDIUSER/.ipython-bluesky/profile_bluesky/startup/instrument/plans/flux_calculations.py\n",
      "I Thu-12:39:32 - /home/beams/8IDIUSER/.ipython-bluesky/profile_bluesky/startup/instrument/plans/functions.py\n",
      "I Thu-12:39:32 - /home/beams/8IDIUSER/.ipython-bluesky/profile_bluesky/startup/instrument/plans/lineup_tweak.py\n",
      "I Thu-12:39:32 - /home/beams/8IDIUSER/.ipython-bluesky/profile_bluesky/startup/instrument/plans/move_diodes.py\n",
      "I Thu-12:39:32 - /home/beams/8IDIUSER/.ipython-bluesky/profile_bluesky/startup/instrument/plans/move_sample.py\n",
      "I Thu-12:39:32 - /home/beams/8IDIUSER/.ipython-bluesky/profile_bluesky/startup/instrument/plans/pv_registers.py\n",
      "I Thu-12:39:32 - /home/beams/8IDIUSER/.ipython-bluesky/profile_bluesky/startup/instrument/plans/shutters.py\n",
      "I Thu-12:39:32 - /home/beams/8IDIUSER/.ipython-bluesky/profile_bluesky/startup/instrument/plans/xpcs_acquire.py\n",
      "I Thu-12:39:32 - /home/beams/8IDIUSER/.ipython-bluesky/profile_bluesky/startup/instrument/utils/explorer.py\n"
     ]
    }
   ],
   "source": [
    "\n",
    "import os\n",
    "import sys\n",
    "path = os.path.join(\n",
    "    os.environ[\"HOME\"], \n",
    "    \".ipython-bluesky\",\n",
    "    \"profile_bluesky\",\n",
    "    \"startup\")\n",
    "sys.path.append(path)\n",
    "from instrument.collection import *\n"
   ]
  },
  {
   "cell_type": "markdown",
   "metadata": {},
   "source": [
    "## Showcasing the previous 40 scans"
   ]
  },
  {
   "cell_type": "code",
   "execution_count": 2,
   "metadata": {},
   "outputs": [
    {
     "ename": "NameError",
     "evalue": "name 'APS_utils' is not defined",
     "output_type": "error",
     "traceback": [
      "\u001b[0;31m---------------------------------------------------------------------------\u001b[0m",
      "\u001b[0;31mNameError\u001b[0m                                 Traceback (most recent call last)",
      "\u001b[0;32m<ipython-input-2-222240a07434>\u001b[0m in \u001b[0;36m<module>\u001b[0;34m\u001b[0m\n\u001b[0;32m----> 1\u001b[0;31m \u001b[0mAPS_utils\u001b[0m\u001b[0;34m.\u001b[0m\u001b[0mlistruns\u001b[0m\u001b[0;34m(\u001b[0m\u001b[0mnum\u001b[0m \u001b[0;34m=\u001b[0m \u001b[0;36m40\u001b[0m\u001b[0;34m)\u001b[0m\u001b[0;34m\u001b[0m\u001b[0;34m\u001b[0m\u001b[0m\n\u001b[0m",
      "\u001b[0;31mNameError\u001b[0m: name 'APS_utils' is not defined"
     ]
    }
   ],
   "source": [
    "\n",
    "APS_utils.listruns(num = 40)\n"
   ]
  },
  {
   "cell_type": "markdown",
   "metadata": {},
   "source": [
    "## Plot scans and overlap figures"
   ]
  },
  {
   "cell_type": "code",
   "execution_count": null,
   "metadata": {},
   "outputs": [],
   "source": [
    "\n",
    "fig, ax = plt.subplots()\n",
    "db['f250e5'].table().plot('detu_x', 'pind1', marker = 'o', ax=ax)\n",
    "db['1f21db'].table().plot('detu_x', 'pind1', marker = 'o', color = 'b', ax=ax)\n"
   ]
  }
 ],
 "metadata": {
  "kernelspec": {
   "display_name": "Python 3.7.7 64-bit ('bluesky_2020_5': conda)",
   "language": "python",
   "name": "python37764bitbluesky20205conda387b29d7c11a4590a08606cd26ced1e5"
  },
  "language_info": {
   "codemirror_mode": {
    "name": "ipython",
    "version": 3
   },
   "file_extension": ".py",
   "mimetype": "text/x-python",
   "name": "python",
   "nbconvert_exporter": "python",
   "pygments_lexer": "ipython3",
   "version": "3.7.7"
  }
 },
 "nbformat": 4,
 "nbformat_minor": 4
}
