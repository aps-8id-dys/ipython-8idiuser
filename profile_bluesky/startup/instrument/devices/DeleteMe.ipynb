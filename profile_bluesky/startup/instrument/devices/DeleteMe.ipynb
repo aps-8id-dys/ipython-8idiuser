{
 "cells": [
  {
   "cell_type": "code",
   "execution_count": 4,
   "metadata": {},
   "outputs": [
    {
     "name": "stdout",
     "output_type": "stream",
     "text": [
      "\n",
      "\n",
      " This is a Test: Test \n",
      "\n",
      "\n"
     ]
    }
   ],
   "source": [
    "\n",
    "char_test = 'Test'\n",
    "\n",
    "print(f'\\n\\n This is a Test: {char_test} \\n\\n')\n",
    "\n"
   ]
  },
  {
   "cell_type": "code",
   "execution_count": null,
   "metadata": {},
   "outputs": [],
   "source": []
  }
 ],
 "metadata": {
  "kernelspec": {
   "display_name": "Python 3.7.7 64-bit ('bluesky_2020_5': conda)",
   "language": "python",
   "name": "python37764bitbluesky20205conda387b29d7c11a4590a08606cd26ced1e5"
  },
  "language_info": {
   "codemirror_mode": {
    "name": "ipython",
    "version": 3
   },
   "file_extension": ".py",
   "mimetype": "text/x-python",
   "name": "python",
   "nbconvert_exporter": "python",
   "pygments_lexer": "ipython3",
   "version": "3.7.7"
  }
 },
 "nbformat": 4,
 "nbformat_minor": 4
}
